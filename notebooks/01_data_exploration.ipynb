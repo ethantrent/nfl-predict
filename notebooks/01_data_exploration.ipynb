{
  "cells": [
    {
      "cell_type": "markdown",
      "metadata": {},
      "source": [
        "# NFL 2025 Season - Data Exploration\n",
        "\n",
        "This notebook explores the NFL 2025 season data loaded from nflverse using nflreadpy.\n"
      ]
    },
    {
      "cell_type": "code",
      "execution_count": null,
      "metadata": {},
      "outputs": [],
      "source": [
        "# Import libraries\n",
        "import sys\n",
        "sys.path.append('..')\n",
        "\n",
        "import pandas as pd\n",
        "import numpy as np\n",
        "import matplotlib.pyplot as plt\n",
        "import seaborn as sns\n",
        "\n",
        "from src.data_loader import load_nfl_data, merge_game_data\n",
        "\n",
        "# Set display options\n",
        "pd.set_option('display.max_columns', None)\n",
        "pd.set_option('display.max_rows', 100)\n",
        "\n",
        "%matplotlib inline\n",
        "sns.set_style('whitegrid')\n",
        "\n",
        "print(\"✓ All imports successful!\")\n"
      ]
    },
    {
      "cell_type": "markdown",
      "metadata": {},
      "source": [
        "## Load Data\n",
        "\n",
        "Load schedules, betting lines, and play-by-play data for the 2024 season (or 2025 when available).\n"
      ]
    },
    {
      "cell_type": "code",
      "execution_count": null,
      "metadata": {},
      "outputs": [],
      "source": [
        "# Load 2024 season data (change to 2025 when available)\n",
        "SEASON = 2024\n",
        "\n",
        "print(f\"Loading {SEASON} season data...\")\n",
        "schedules, betting_lines, pbp_data = load_nfl_data(SEASON)\n",
        "\n",
        "print(f\"\\n✓ Data loaded successfully!\")\n",
        "print(f\"  Schedules: {schedules.shape}\")\n",
        "print(f\"  Betting Lines: {betting_lines.shape}\")\n",
        "print(f\"  Play-by-Play: {pbp_data.shape}\")\n"
      ]
    },
    {
      "cell_type": "markdown",
      "metadata": {},
      "source": [
        "## Explore Schedules\n"
      ]
    },
    {
      "cell_type": "code",
      "execution_count": null,
      "metadata": {},
      "outputs": [],
      "source": [
        "# Display first few rows\n",
        "schedules.head()\n"
      ]
    },
    {
      "cell_type": "code",
      "execution_count": null,
      "metadata": {},
      "outputs": [],
      "source": [
        "# Check data types and missing values\n",
        "schedules.info()\n"
      ]
    },
    {
      "cell_type": "code",
      "execution_count": null,
      "metadata": {},
      "outputs": [],
      "source": [
        "# Summary statistics for scores\n",
        "print(\"Score Statistics:\")\n",
        "print(schedules[['home_score', 'away_score']].describe())\n"
      ]
    },
    {
      "cell_type": "markdown",
      "metadata": {},
      "source": [
        "## Explore Betting Lines\n"
      ]
    },
    {
      "cell_type": "code",
      "execution_count": null,
      "metadata": {},
      "outputs": [],
      "source": [
        "# Check betting columns\n",
        "betting_cols = [col for col in schedules.columns if 'spread' in col.lower() or 'line' in col.lower() or 'total' in col.lower()]\n",
        "print(\"Betting-related columns:\")\n",
        "print(betting_cols)\n",
        "print(\"\\nSample data:\")\n",
        "schedules[betting_cols].head(10)\n"
      ]
    },
    {
      "cell_type": "code",
      "execution_count": null,
      "metadata": {},
      "outputs": [],
      "source": [
        "# Distribution of spread lines\n",
        "plt.figure(figsize=(12, 5))\n",
        "\n",
        "plt.subplot(1, 2, 1)\n",
        "plt.hist(schedules['spread_line'].dropna(), bins=30, edgecolor='black', alpha=0.7, color='steelblue')\n",
        "plt.xlabel('Spread Line')\n",
        "plt.ylabel('Frequency')\n",
        "plt.title('Distribution of Betting Spreads')\n",
        "plt.axvline(x=0, color='red', linestyle='--', label='Even', linewidth=2)\n",
        "plt.legend()\n",
        "plt.grid(alpha=0.3)\n",
        "\n",
        "plt.subplot(1, 2, 2)\n",
        "plt.hist(schedules['total_line'].dropna(), bins=30, edgecolor='black', alpha=0.7, color='green')\n",
        "plt.xlabel('Total Line (O/U)')\n",
        "plt.ylabel('Frequency')\n",
        "plt.title('Distribution of Over/Under Lines')\n",
        "plt.grid(alpha=0.3)\n",
        "\n",
        "plt.tight_layout()\n",
        "plt.show()\n"
      ]
    },
    {
      "cell_type": "markdown",
      "metadata": {},
      "source": [
        "## Explore Play-by-Play Data\n"
      ]
    },
    {
      "cell_type": "code",
      "execution_count": null,
      "metadata": {},
      "outputs": [],
      "source": [
        "# Sample of play-by-play data\n",
        "print(f\"Total plays: {len(pbp_data):,}\")\n",
        "print(f\"\\nColumns: {pbp_data.shape[1]}\")\n",
        "print(f\"\\nSample data:\")\n",
        "pbp_data.head()\n"
      ]
    },
    {
      "cell_type": "code",
      "execution_count": null,
      "metadata": {},
      "outputs": [],
      "source": [
        "# EPA distribution for offensive plays\n",
        "offensive_plays = pbp_data[pbp_data['play_type'].isin(['pass', 'run']) & pbp_data['epa'].notna()]\n",
        "\n",
        "plt.figure(figsize=(14, 5))\n",
        "\n",
        "plt.subplot(1, 3, 1)\n",
        "plt.hist(offensive_plays['epa'], bins=50, edgecolor='black', alpha=0.7, color='purple')\n",
        "plt.xlabel('EPA (Expected Points Added)')\n",
        "plt.ylabel('Frequency')\n",
        "plt.title(f'Distribution of EPA per Play\\n({len(offensive_plays):,} plays)')\n",
        "plt.axvline(x=0, color='red', linestyle='--', label='Zero EPA', linewidth=2)\n",
        "plt.legend()\n",
        "plt.grid(alpha=0.3)\n",
        "\n",
        "plt.subplot(1, 3, 2)\n",
        "pass_plays = offensive_plays[offensive_plays['pass'] == 1]\n",
        "plt.hist(pass_plays['epa'], bins=50, edgecolor='black', alpha=0.7, color='blue')\n",
        "plt.xlabel('EPA')\n",
        "plt.ylabel('Frequency')\n",
        "plt.title(f'Passing Plays EPA\\n({len(pass_plays):,} plays)')\n",
        "plt.axvline(x=0, color='red', linestyle='--', linewidth=2)\n",
        "plt.grid(alpha=0.3)\n",
        "\n",
        "plt.subplot(1, 3, 3)\n",
        "rush_plays = offensive_plays[offensive_plays['rush'] == 1]\n",
        "plt.hist(rush_plays['epa'], bins=50, edgecolor='black', alpha=0.7, color='green')\n",
        "plt.xlabel('EPA')\n",
        "plt.ylabel('Frequency')\n",
        "plt.title(f'Rushing Plays EPA\\n({len(rush_plays):,} plays)')\n",
        "plt.axvline(x=0, color='red', linestyle='--', linewidth=2)\n",
        "plt.grid(alpha=0.3)\n",
        "\n",
        "plt.tight_layout()\n",
        "plt.show()\n"
      ]
    },
    {
      "cell_type": "code",
      "execution_count": null,
      "metadata": {},
      "outputs": [],
      "source": [
        "# Key offensive statistics\n",
        "print(\"Average EPA by play type:\")\n",
        "print(f\"  Pass plays: {pass_plays['epa'].mean():.3f}\")\n",
        "print(f\"  Rush plays: {rush_plays['epa'].mean():.3f}\")\n",
        "print(f\"\\nSuccess rate (EPA > 0):\")\n",
        "print(f\"  Pass plays: {(pass_plays['epa'] > 0).mean():.1%}\")\n",
        "print(f\"  Rush plays: {(rush_plays['epa'] > 0).mean():.1%}\")\n"
      ]
    },
    {
      "cell_type": "markdown",
      "metadata": {},
      "source": [
        "## Quick Analysis: Home vs Away Performance\n"
      ]
    },
    {
      "cell_type": "code",
      "execution_count": null,
      "metadata": {},
      "outputs": [],
      "source": [
        "# Calculate home win percentage\n",
        "completed = schedules[schedules['home_score'].notna() & schedules['away_score'].notna()].copy()\n",
        "completed['home_win'] = completed['home_score'] > completed['away_score']\n",
        "\n",
        "home_win_pct = completed['home_win'].mean()\n",
        "\n",
        "print(f\"Completed games: {len(completed)}\")\n",
        "print(f\"Home team win percentage: {home_win_pct:.1%}\")\n",
        "print(f\"Away team win percentage: {(1-home_win_pct):.1%}\")\n",
        "\n",
        "# Visualize\n",
        "plt.figure(figsize=(10, 6))\n",
        "categories = ['Home Wins', 'Away Wins']\n",
        "counts = [completed['home_win'].sum(), (~completed['home_win']).sum()]\n",
        "colors = ['steelblue', 'coral']\n",
        "\n",
        "plt.bar(categories, counts, color=colors, alpha=0.7, edgecolor='black')\n",
        "plt.ylabel('Number of Games')\n",
        "plt.title(f'{SEASON} Season: Home vs Away Performance', fontsize=14, fontweight='bold')\n",
        "plt.grid(axis='y', alpha=0.3)\n",
        "\n",
        "for i, (cat, count) in enumerate(zip(categories, counts)):\n",
        "    plt.text(i, count + 2, f'{count}\\n({count/len(completed):.1%})', \n",
        "             ha='center', fontsize=12, fontweight='bold')\n",
        "\n",
        "plt.tight_layout()\n",
        "plt.show()\n"
      ]
    },
    {
      "cell_type": "markdown",
      "metadata": {},
      "source": [
        "## Next Steps\n",
        "\n",
        "For deeper analysis, see:\n",
        "1. **`02_spread_analysis.ipynb`** - Detailed spread coverage analysis\n",
        "2. **`03_offensive_stats.ipynb`** - Offensive efficiency correlations  \n",
        "3. **`04_ml_predictions.ipynb`** - Machine learning models\n",
        "\n",
        "Or run the complete analysis pipeline:\n",
        "```python\n",
        "python main.py\n",
        "```\n",
        "\n",
        "This will generate:\n",
        "- Visualizations in `outputs/figures/`\n",
        "- Data reports in `outputs/reports/`\n",
        "- Execution log in `nfl_analysis.log`\n"
      ]
    },
    {
      "cell_type": "markdown",
      "metadata": {},
      "source": []
    }
  ],
  "metadata": {
    "language_info": {
      "name": "python"
    }
  },
  "nbformat": 4,
  "nbformat_minor": 2
}
