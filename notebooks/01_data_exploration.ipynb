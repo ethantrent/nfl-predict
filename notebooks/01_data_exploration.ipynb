{
  "cells": [
    {
      "cell_type": "markdown",
      "metadata": {},
      "source": [
        "# NFL 2025 Season - Data Exploration\n",
        "\n",
        "This notebook explores the NFL 2025 season data loaded from nflverse using nflreadpy.\n"
      ]
    }
  ],
  "metadata": {
    "language_info": {
      "name": "python"
    }
  },
  "nbformat": 4,
  "nbformat_minor": 2
}
